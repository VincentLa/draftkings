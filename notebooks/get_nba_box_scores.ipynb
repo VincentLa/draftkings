{
 "cells": [
  {
   "cell_type": "code",
   "execution_count": 30,
   "metadata": {},
   "outputs": [],
   "source": [
    "import datetime as dt\n",
    "import os\n",
    "from pathlib import Path\n",
    "\n",
    "import basketball_reference_web_scraper\n",
    "from basketball_reference_web_scraper import client\n",
    "import pandas as pd\n",
    "\n",
    "pd.set_option('display.max_rows', 500)\n",
    "pd.set_option('display.max_columns', 500)\n",
    "\n",
    "\n",
    "# Constants to translate raw NBA stats to DraftKings Points.\n",
    "# Pulling them out here in case they change it's easy to swap out\n",
    "POINTS_MULTIPLE = 1\n",
    "THREE_POINT_MULTIPLE = 0.5\n",
    "REBOUND_MULTIPLE = 1.25\n",
    "ASSIST_MULTIPLE = 1.5\n",
    "STEAL_MULTIPLE = 2\n",
    "BLOCK_MULTIPLE = 2\n",
    "TURNOVER_MULTIPLE = -0.5\n",
    "DOUBLE_DOUBLE_MULTIPLE = 1.5\n",
    "TRIPLE_DOUBLE_MULTIPLE = 3\n"
   ]
  },
  {
   "cell_type": "code",
   "execution_count": 31,
   "metadata": {
    "collapsed": true
   },
   "outputs": [],
   "source": [
    "# https://jaebradley.github.io/basketball_reference_web_scraper/api/\n",
    "player_box_scores = client.player_box_scores(day=7, month=8, year=2020)"
   ]
  },
  {
   "cell_type": "code",
   "execution_count": 32,
   "metadata": {},
   "outputs": [
    {
     "data": {
      "text/plain": [
       "list"
      ]
     },
     "execution_count": 32,
     "metadata": {},
     "output_type": "execute_result"
    }
   ],
   "source": [
    "type(player_box_scores)"
   ]
  },
  {
   "cell_type": "code",
   "execution_count": 33,
   "metadata": {},
   "outputs": [
    {
     "data": {
      "text/plain": [
       "136"
      ]
     },
     "execution_count": 33,
     "metadata": {},
     "output_type": "execute_result"
    }
   ],
   "source": [
    "len(player_box_scores)"
   ]
  },
  {
   "cell_type": "code",
   "execution_count": 34,
   "metadata": {},
   "outputs": [
    {
     "data": {
      "text/plain": [
       "dict"
      ]
     },
     "execution_count": 34,
     "metadata": {},
     "output_type": "execute_result"
    }
   ],
   "source": [
    "type(player_box_scores[0])"
   ]
  },
  {
   "cell_type": "code",
   "execution_count": 35,
   "metadata": {},
   "outputs": [
    {
     "data": {
      "text/plain": [
       "{'assists': 6,\n",
       " 'attempted_field_goals': 16,\n",
       " 'attempted_free_throws': 5,\n",
       " 'attempted_three_point_field_goals': 4,\n",
       " 'blocks': 1,\n",
       " 'defensive_rebounds': 2,\n",
       " 'game_score': 21.2,\n",
       " 'location': <Location.HOME: 'HOME'>,\n",
       " 'made_field_goals': 11,\n",
       " 'made_free_throws': 4,\n",
       " 'made_three_point_field_goals': 2,\n",
       " 'name': 'Jrue Holiday',\n",
       " 'offensive_rebounds': 1,\n",
       " 'opponent': <Team.WASHINGTON_WIZARDS: 'WASHINGTON WIZARDS'>,\n",
       " 'outcome': <Outcome.WIN: 'WIN'>,\n",
       " 'personal_fouls': 2,\n",
       " 'seconds_played': 2197,\n",
       " 'slug': 'holidjr01',\n",
       " 'steals': 2,\n",
       " 'team': <Team.NEW_ORLEANS_PELICANS: 'NEW ORLEANS PELICANS'>,\n",
       " 'turnovers': 7}"
      ]
     },
     "execution_count": 35,
     "metadata": {},
     "output_type": "execute_result"
    }
   ],
   "source": [
    "player_box_scores[0]"
   ]
  },
  {
   "cell_type": "code",
   "execution_count": 36,
   "metadata": {
    "collapsed": true
   },
   "outputs": [],
   "source": [
    "player_box_scores_df = pd.DataFrame(player_box_scores)\n",
    "player_box_scores_df['date_played'] = dt.date(2020, 8, 6)\n",
    "player_box_scores_df['total_rebounds'] = player_box_scores_df['offensive_rebounds'] + player_box_scores_df['defensive_rebounds']\n",
    "player_box_scores_df['total_points_scored'] = (player_box_scores_df['made_field_goals'] - player_box_scores_df['made_three_point_field_goals']) * 2 \\\n",
    "    + player_box_scores_df['made_three_point_field_goals'] * 3 \\\n",
    "    + player_box_scores_df['made_free_throws']\n",
    "player_box_scores_df['total_double_digit_stats'] = (player_box_scores_df['total_points_scored'] >= 10).astype(int) \\\n",
    "    + (player_box_scores_df['total_rebounds'] >= 10).astype(int) \\\n",
    "    + (player_box_scores_df['assists'] >= 10).astype(int) \\\n",
    "    + (player_box_scores_df['steals'] >= 10).astype(int) \\\n",
    "    + (player_box_scores_df['blocks'] >= 10).astype(int)\n",
    "player_box_scores_df['double_double_flag'] = (player_box_scores_df['total_double_digit_stats'] == 2).astype(int)\n",
    "player_box_scores_df['triple_double_flag'] = (player_box_scores_df['total_double_digit_stats'] >= 3).astype(int)"
   ]
  },
  {
   "cell_type": "code",
   "execution_count": 37,
   "metadata": {
    "collapsed": true
   },
   "outputs": [],
   "source": [
    "player_box_scores_df['draftkings_points'] = \\\n",
    "    POINTS_MULTIPLE * player_box_scores_df['total_points_scored'] \\\n",
    "    + THREE_POINT_MULTIPLE * player_box_scores_df['made_three_point_field_goals'] \\\n",
    "    + REBOUND_MULTIPLE * player_box_scores_df['total_rebounds'] \\\n",
    "    + ASSIST_MULTIPLE * player_box_scores_df['assists'] \\\n",
    "    + STEAL_MULTIPLE * player_box_scores_df['steals'] \\\n",
    "    + BLOCK_MULTIPLE * player_box_scores_df['blocks'] \\\n",
    "    + TURNOVER_MULTIPLE * player_box_scores_df['turnovers'] \\\n",
    "    + DOUBLE_DOUBLE_MULTIPLE * player_box_scores_df['double_double_flag'] \\\n",
    "    + TRIPLE_DOUBLE_MULTIPLE * player_box_scores_df['triple_double_flag']"
   ]
  },
  {
   "cell_type": "code",
   "execution_count": 38,
   "metadata": {
    "collapsed": true
   },
   "outputs": [],
   "source": [
    "player_box_scores_df = player_box_scores_df[[\n",
    "    'slug',\n",
    "    'name',\n",
    "    'team',\n",
    "    'location',\n",
    "    'opponent',\n",
    "    'date_played',\n",
    "    'outcome',\n",
    "    'seconds_played',\n",
    "    'made_field_goals',\n",
    "    'attempted_field_goals',\n",
    "    'made_three_point_field_goals',\n",
    "    'attempted_three_point_field_goals',\n",
    "    'made_free_throws',\n",
    "    'attempted_free_throws',\n",
    "    'total_points_scored',\n",
    "    'total_rebounds',\n",
    "    'assists',\n",
    "    'steals',\n",
    "    'blocks',\n",
    "    'turnovers',\n",
    "    'double_double_flag',\n",
    "    'triple_double_flag',\n",
    "    'draftkings_points',    \n",
    "]]"
   ]
  },
  {
   "cell_type": "code",
   "execution_count": 39,
   "metadata": {},
   "outputs": [
    {
     "data": {
      "text/html": [
       "<div>\n",
       "<style>\n",
       "    .dataframe thead tr:only-child th {\n",
       "        text-align: right;\n",
       "    }\n",
       "\n",
       "    .dataframe thead th {\n",
       "        text-align: left;\n",
       "    }\n",
       "\n",
       "    .dataframe tbody tr th {\n",
       "        vertical-align: top;\n",
       "    }\n",
       "</style>\n",
       "<table border=\"1\" class=\"dataframe\">\n",
       "  <thead>\n",
       "    <tr style=\"text-align: right;\">\n",
       "      <th></th>\n",
       "      <th>slug</th>\n",
       "      <th>name</th>\n",
       "      <th>team</th>\n",
       "      <th>location</th>\n",
       "      <th>opponent</th>\n",
       "      <th>date_played</th>\n",
       "      <th>outcome</th>\n",
       "      <th>seconds_played</th>\n",
       "      <th>made_field_goals</th>\n",
       "      <th>attempted_field_goals</th>\n",
       "      <th>made_three_point_field_goals</th>\n",
       "      <th>attempted_three_point_field_goals</th>\n",
       "      <th>made_free_throws</th>\n",
       "      <th>attempted_free_throws</th>\n",
       "      <th>total_points_scored</th>\n",
       "      <th>total_rebounds</th>\n",
       "      <th>assists</th>\n",
       "      <th>steals</th>\n",
       "      <th>blocks</th>\n",
       "      <th>turnovers</th>\n",
       "      <th>double_double_flag</th>\n",
       "      <th>triple_double_flag</th>\n",
       "      <th>draftkings_points</th>\n",
       "    </tr>\n",
       "  </thead>\n",
       "  <tbody>\n",
       "    <tr>\n",
       "      <th>0</th>\n",
       "      <td>holidjr01</td>\n",
       "      <td>Jrue Holiday</td>\n",
       "      <td>Team.NEW_ORLEANS_PELICANS</td>\n",
       "      <td>Location.HOME</td>\n",
       "      <td>Team.WASHINGTON_WIZARDS</td>\n",
       "      <td>2020-08-06</td>\n",
       "      <td>Outcome.WIN</td>\n",
       "      <td>2197</td>\n",
       "      <td>11</td>\n",
       "      <td>16</td>\n",
       "      <td>2</td>\n",
       "      <td>4</td>\n",
       "      <td>4</td>\n",
       "      <td>5</td>\n",
       "      <td>28</td>\n",
       "      <td>3</td>\n",
       "      <td>6</td>\n",
       "      <td>2</td>\n",
       "      <td>1</td>\n",
       "      <td>7</td>\n",
       "      <td>0</td>\n",
       "      <td>0</td>\n",
       "      <td>44.25</td>\n",
       "    </tr>\n",
       "    <tr>\n",
       "      <th>1</th>\n",
       "      <td>whitede01</td>\n",
       "      <td>Derrick White</td>\n",
       "      <td>Team.SAN_ANTONIO_SPURS</td>\n",
       "      <td>Location.HOME</td>\n",
       "      <td>Team.UTAH_JAZZ</td>\n",
       "      <td>2020-08-06</td>\n",
       "      <td>Outcome.WIN</td>\n",
       "      <td>1982</td>\n",
       "      <td>8</td>\n",
       "      <td>15</td>\n",
       "      <td>4</td>\n",
       "      <td>9</td>\n",
       "      <td>4</td>\n",
       "      <td>5</td>\n",
       "      <td>24</td>\n",
       "      <td>6</td>\n",
       "      <td>4</td>\n",
       "      <td>1</td>\n",
       "      <td>1</td>\n",
       "      <td>1</td>\n",
       "      <td>0</td>\n",
       "      <td>0</td>\n",
       "      <td>43.00</td>\n",
       "    </tr>\n",
       "    <tr>\n",
       "      <th>2</th>\n",
       "      <td>horfoal01</td>\n",
       "      <td>Al Horford</td>\n",
       "      <td>Team.PHILADELPHIA_76ERS</td>\n",
       "      <td>Location.HOME</td>\n",
       "      <td>Team.ORLANDO_MAGIC</td>\n",
       "      <td>2020-08-06</td>\n",
       "      <td>Outcome.WIN</td>\n",
       "      <td>1820</td>\n",
       "      <td>8</td>\n",
       "      <td>14</td>\n",
       "      <td>1</td>\n",
       "      <td>3</td>\n",
       "      <td>4</td>\n",
       "      <td>4</td>\n",
       "      <td>21</td>\n",
       "      <td>9</td>\n",
       "      <td>2</td>\n",
       "      <td>0</td>\n",
       "      <td>1</td>\n",
       "      <td>1</td>\n",
       "      <td>0</td>\n",
       "      <td>0</td>\n",
       "      <td>37.25</td>\n",
       "    </tr>\n",
       "    <tr>\n",
       "      <th>3</th>\n",
       "      <td>allenja01</td>\n",
       "      <td>Jarrett Allen</td>\n",
       "      <td>Team.BROOKLYN_NETS</td>\n",
       "      <td>Location.HOME</td>\n",
       "      <td>Team.SACRAMENTO_KINGS</td>\n",
       "      <td>2020-08-06</td>\n",
       "      <td>Outcome.WIN</td>\n",
       "      <td>2188</td>\n",
       "      <td>5</td>\n",
       "      <td>8</td>\n",
       "      <td>0</td>\n",
       "      <td>0</td>\n",
       "      <td>7</td>\n",
       "      <td>10</td>\n",
       "      <td>17</td>\n",
       "      <td>11</td>\n",
       "      <td>8</td>\n",
       "      <td>0</td>\n",
       "      <td>1</td>\n",
       "      <td>1</td>\n",
       "      <td>1</td>\n",
       "      <td>0</td>\n",
       "      <td>45.75</td>\n",
       "    </tr>\n",
       "    <tr>\n",
       "      <th>4</th>\n",
       "      <td>bradlto01</td>\n",
       "      <td>Tony Bradley</td>\n",
       "      <td>Team.UTAH_JAZZ</td>\n",
       "      <td>Location.AWAY</td>\n",
       "      <td>Team.SAN_ANTONIO_SPURS</td>\n",
       "      <td>2020-08-06</td>\n",
       "      <td>Outcome.LOSS</td>\n",
       "      <td>1329</td>\n",
       "      <td>7</td>\n",
       "      <td>9</td>\n",
       "      <td>1</td>\n",
       "      <td>1</td>\n",
       "      <td>0</td>\n",
       "      <td>1</td>\n",
       "      <td>15</td>\n",
       "      <td>11</td>\n",
       "      <td>2</td>\n",
       "      <td>1</td>\n",
       "      <td>3</td>\n",
       "      <td>0</td>\n",
       "      <td>1</td>\n",
       "      <td>0</td>\n",
       "      <td>41.75</td>\n",
       "    </tr>\n",
       "  </tbody>\n",
       "</table>\n",
       "</div>"
      ],
      "text/plain": [
       "        slug           name                       team       location  \\\n",
       "0  holidjr01   Jrue Holiday  Team.NEW_ORLEANS_PELICANS  Location.HOME   \n",
       "1  whitede01  Derrick White     Team.SAN_ANTONIO_SPURS  Location.HOME   \n",
       "2  horfoal01     Al Horford    Team.PHILADELPHIA_76ERS  Location.HOME   \n",
       "3  allenja01  Jarrett Allen         Team.BROOKLYN_NETS  Location.HOME   \n",
       "4  bradlto01   Tony Bradley             Team.UTAH_JAZZ  Location.AWAY   \n",
       "\n",
       "                  opponent date_played       outcome  seconds_played  \\\n",
       "0  Team.WASHINGTON_WIZARDS  2020-08-06   Outcome.WIN            2197   \n",
       "1           Team.UTAH_JAZZ  2020-08-06   Outcome.WIN            1982   \n",
       "2       Team.ORLANDO_MAGIC  2020-08-06   Outcome.WIN            1820   \n",
       "3    Team.SACRAMENTO_KINGS  2020-08-06   Outcome.WIN            2188   \n",
       "4   Team.SAN_ANTONIO_SPURS  2020-08-06  Outcome.LOSS            1329   \n",
       "\n",
       "   made_field_goals  attempted_field_goals  made_three_point_field_goals  \\\n",
       "0                11                     16                             2   \n",
       "1                 8                     15                             4   \n",
       "2                 8                     14                             1   \n",
       "3                 5                      8                             0   \n",
       "4                 7                      9                             1   \n",
       "\n",
       "   attempted_three_point_field_goals  made_free_throws  attempted_free_throws  \\\n",
       "0                                  4                 4                      5   \n",
       "1                                  9                 4                      5   \n",
       "2                                  3                 4                      4   \n",
       "3                                  0                 7                     10   \n",
       "4                                  1                 0                      1   \n",
       "\n",
       "   total_points_scored  total_rebounds  assists  steals  blocks  turnovers  \\\n",
       "0                   28               3        6       2       1          7   \n",
       "1                   24               6        4       1       1          1   \n",
       "2                   21               9        2       0       1          1   \n",
       "3                   17              11        8       0       1          1   \n",
       "4                   15              11        2       1       3          0   \n",
       "\n",
       "   double_double_flag  triple_double_flag  draftkings_points  \n",
       "0                   0                   0              44.25  \n",
       "1                   0                   0              43.00  \n",
       "2                   0                   0              37.25  \n",
       "3                   1                   0              45.75  \n",
       "4                   1                   0              41.75  "
      ]
     },
     "execution_count": 39,
     "metadata": {},
     "output_type": "execute_result"
    }
   ],
   "source": [
    "player_box_scores_df.head()"
   ]
  },
  {
   "cell_type": "code",
   "execution_count": 40,
   "metadata": {},
   "outputs": [
    {
     "data": {
      "text/plain": [
       "'C:\\\\Users\\\\Kevin\\\\Documents\\\\GitHub\\\\draftkings'"
      ]
     },
     "execution_count": 40,
     "metadata": {},
     "output_type": "execute_result"
    }
   ],
   "source": [
    "ROOT_DIR = os.path.abspath(os.curdir)\n",
    "ROOT_DIR = str(Path(ROOT_DIR).parents[0])\n",
    "ROOT_DIR"
   ]
  },
  {
   "cell_type": "code",
   "execution_count": 41,
   "metadata": {},
   "outputs": [],
   "source": [
    "player_box_scores_df.to_csv(ROOT_DIR + \"\\\\\" + r'data\\raw\\nba_box_score_stats\\nba_box_score_stats_2020807.csv', index=False)"
   ]
  },
  {
   "cell_type": "code",
   "execution_count": null,
   "metadata": {
    "collapsed": true
   },
   "outputs": [],
   "source": []
  }
 ],
 "metadata": {
  "kernelspec": {
   "display_name": "Python 3",
   "language": "python",
   "name": "python3"
  },
  "language_info": {
   "codemirror_mode": {
    "name": "ipython",
    "version": 3
   },
   "file_extension": ".py",
   "mimetype": "text/x-python",
   "name": "python",
   "nbconvert_exporter": "python",
   "pygments_lexer": "ipython3",
   "version": "3.6.3"
  }
 },
 "nbformat": 4,
 "nbformat_minor": 4
}
