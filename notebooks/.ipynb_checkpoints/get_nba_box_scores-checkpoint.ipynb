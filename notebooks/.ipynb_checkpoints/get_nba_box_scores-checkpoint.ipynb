{
 "cells": [
  {
   "cell_type": "code",
   "execution_count": 1,
   "metadata": {},
   "outputs": [
    {
     "name": "stderr",
     "output_type": "stream",
     "text": [
      "/Users/vincela/.pyenv/versions/3.7.4/envs/draftkings/lib/python3.7/site-packages/pandas/compat/__init__.py:120: UserWarning: Could not import the lzma module. Your installed Python is incomplete. Attempting to use lzma compression will result in a RuntimeError.\n",
      "  warnings.warn(msg)\n"
     ]
    }
   ],
   "source": [
    "import datetime as dt\n",
    "import os\n",
    "\n",
    "import basketball_reference_web_scraper\n",
    "from basketball_reference_web_scraper import client\n",
    "import pandas as pd\n",
    "\n",
    "pd.set_option('display.max_rows', 500)\n",
    "pd.set_option('display.max_columns', 500)\n",
    "\n",
    "\n",
    "# Constants to translate raw NBA stats to DraftKings Points.\n",
    "# Pulling them out here in case they change it's easy to swap out\n",
    "POINTS_MULTIPLE = 1\n",
    "THREE_POINT_MULTIPLE = 0.5\n",
    "REBOUND_MULTIPLE = 1.25\n",
    "ASSIST_MULTIPLE = 1.5\n",
    "STEAL_MULTIPLE = 2\n",
    "BLOCK_MULTIPLE = 2\n",
    "TURNOVER_MULTIPLE = -0.5\n",
    "DOUBLE_DOUBLE_MULTIPLE = 1.5\n",
    "TRIPLE_DOUBLE_MULTIPLE = 3\n"
   ]
  },
  {
   "cell_type": "code",
   "execution_count": 2,
   "metadata": {},
   "outputs": [],
   "source": [
    "# https://jaebradley.github.io/basketball_reference_web_scraper/api/\n",
    "player_box_scores = client.player_box_scores(day=5, month=8, year=2020)"
   ]
  },
  {
   "cell_type": "code",
   "execution_count": 3,
   "metadata": {},
   "outputs": [
    {
     "data": {
      "text/plain": [
       "list"
      ]
     },
     "execution_count": 3,
     "metadata": {},
     "output_type": "execute_result"
    }
   ],
   "source": [
    "type(player_box_scores)"
   ]
  },
  {
   "cell_type": "code",
   "execution_count": 4,
   "metadata": {},
   "outputs": [
    {
     "data": {
      "text/plain": [
       "133"
      ]
     },
     "execution_count": 4,
     "metadata": {},
     "output_type": "execute_result"
    }
   ],
   "source": [
    "len(player_box_scores)"
   ]
  },
  {
   "cell_type": "code",
   "execution_count": 5,
   "metadata": {},
   "outputs": [
    {
     "data": {
      "text/plain": [
       "dict"
      ]
     },
     "execution_count": 5,
     "metadata": {},
     "output_type": "execute_result"
    }
   ],
   "source": [
    "type(player_box_scores[0])"
   ]
  },
  {
   "cell_type": "code",
   "execution_count": 6,
   "metadata": {},
   "outputs": [
    {
     "data": {
      "text/plain": [
       "{'slug': 'goberru01',\n",
       " 'name': 'Rudy Gobert',\n",
       " 'team': <Team.UTAH_JAZZ: 'UTAH JAZZ'>,\n",
       " 'location': <Location.HOME: 'HOME'>,\n",
       " 'opponent': <Team.MEMPHIS_GRIZZLIES: 'MEMPHIS GRIZZLIES'>,\n",
       " 'outcome': <Outcome.WIN: 'WIN'>,\n",
       " 'seconds_played': 2215,\n",
       " 'made_field_goals': 5,\n",
       " 'attempted_field_goals': 9,\n",
       " 'made_three_point_field_goals': 0,\n",
       " 'attempted_three_point_field_goals': 0,\n",
       " 'made_free_throws': 11,\n",
       " 'attempted_free_throws': 12,\n",
       " 'offensive_rebounds': 5,\n",
       " 'defensive_rebounds': 11,\n",
       " 'assists': 1,\n",
       " 'steals': 2,\n",
       " 'blocks': 3,\n",
       " 'turnovers': 2,\n",
       " 'personal_fouls': 1,\n",
       " 'game_score': 25.5}"
      ]
     },
     "execution_count": 6,
     "metadata": {},
     "output_type": "execute_result"
    }
   ],
   "source": [
    "player_box_scores[0]"
   ]
  },
  {
   "cell_type": "code",
   "execution_count": 7,
   "metadata": {},
   "outputs": [],
   "source": [
    "player_box_scores_df = pd.DataFrame(player_box_scores)\n",
    "player_box_scores_df['date_played'] = dt.date(2020, 8, 5)\n",
    "player_box_scores_df['total_rebounds'] = player_box_scores_df['offensive_rebounds'] + player_box_scores_df['defensive_rebounds']\n",
    "player_box_scores_df['total_points_scored'] = (player_box_scores_df['made_field_goals'] - player_box_scores_df['made_three_point_field_goals']) * 2 \\\n",
    "    + player_box_scores_df['made_three_point_field_goals'] * 3 \\\n",
    "    + player_box_scores_df['made_free_throws']\n",
    "player_box_scores_df['total_double_digit_stats'] = (player_box_scores_df['total_points_scored'] >= 10).astype(int) \\\n",
    "    + (player_box_scores_df['total_rebounds'] >= 10).astype(int) \\\n",
    "    + (player_box_scores_df['assists'] >= 10).astype(int) \\\n",
    "    + (player_box_scores_df['steals'] >= 10).astype(int) \\\n",
    "    + (player_box_scores_df['blocks'] >= 10).astype(int)\n",
    "player_box_scores_df['double_double_flag'] = (player_box_scores_df['total_double_digit_stats'] == 2).astype(int)\n",
    "player_box_scores_df['triple_double_flag'] = (player_box_scores_df['total_double_digit_stats'] >= 3).astype(int)"
   ]
  },
  {
   "cell_type": "code",
   "execution_count": 8,
   "metadata": {},
   "outputs": [],
   "source": [
    "player_box_scores_df['draftkings_points'] = \\\n",
    "    POINTS_MULTIPLE * player_box_scores_df['total_points_scored'] \\\n",
    "    + THREE_POINT_MULTIPLE * player_box_scores_df['made_three_point_field_goals'] \\\n",
    "    + REBOUND_MULTIPLE * player_box_scores_df['total_rebounds'] \\\n",
    "    + ASSIST_MULTIPLE * player_box_scores_df['assists'] \\\n",
    "    + STEAL_MULTIPLE * player_box_scores_df['steals'] \\\n",
    "    + BLOCK_MULTIPLE * player_box_scores_df['blocks'] \\\n",
    "    + TURNOVER_MULTIPLE * player_box_scores_df['turnovers'] \\\n",
    "    + DOUBLE_DOUBLE_MULTIPLE * player_box_scores_df['double_double_flag'] \\\n",
    "    + TRIPLE_DOUBLE_MULTIPLE * player_box_scores_df['triple_double_flag']"
   ]
  },
  {
   "cell_type": "code",
   "execution_count": 9,
   "metadata": {},
   "outputs": [],
   "source": [
    "player_box_scores_df = player_box_scores_df[[\n",
    "    'slug',\n",
    "    'name',\n",
    "    'team',\n",
    "    'location',\n",
    "    'opponent',\n",
    "    'date_played',\n",
    "    'outcome',\n",
    "    'seconds_played',\n",
    "    'made_field_goals',\n",
    "    'attempted_field_goals',\n",
    "    'made_three_point_field_goals',\n",
    "    'attempted_three_point_field_goals',\n",
    "    'made_free_throws',\n",
    "    'attempted_free_throws',\n",
    "    'total_points_scored',\n",
    "    'total_rebounds',\n",
    "    'assists',\n",
    "    'steals',\n",
    "    'blocks',\n",
    "    'turnovers',\n",
    "    'double_double_flag',\n",
    "    'triple_double_flag',\n",
    "    'draftkings_points',    \n",
    "]]"
   ]
  },
  {
   "cell_type": "code",
   "execution_count": 10,
   "metadata": {},
   "outputs": [
    {
     "data": {
      "text/html": [
       "<div>\n",
       "<style scoped>\n",
       "    .dataframe tbody tr th:only-of-type {\n",
       "        vertical-align: middle;\n",
       "    }\n",
       "\n",
       "    .dataframe tbody tr th {\n",
       "        vertical-align: top;\n",
       "    }\n",
       "\n",
       "    .dataframe thead th {\n",
       "        text-align: right;\n",
       "    }\n",
       "</style>\n",
       "<table border=\"1\" class=\"dataframe\">\n",
       "  <thead>\n",
       "    <tr style=\"text-align: right;\">\n",
       "      <th></th>\n",
       "      <th>slug</th>\n",
       "      <th>name</th>\n",
       "      <th>team</th>\n",
       "      <th>location</th>\n",
       "      <th>opponent</th>\n",
       "      <th>date_played</th>\n",
       "      <th>outcome</th>\n",
       "      <th>seconds_played</th>\n",
       "      <th>made_field_goals</th>\n",
       "      <th>attempted_field_goals</th>\n",
       "      <th>made_three_point_field_goals</th>\n",
       "      <th>attempted_three_point_field_goals</th>\n",
       "      <th>made_free_throws</th>\n",
       "      <th>attempted_free_throws</th>\n",
       "      <th>total_points_scored</th>\n",
       "      <th>total_rebounds</th>\n",
       "      <th>assists</th>\n",
       "      <th>steals</th>\n",
       "      <th>blocks</th>\n",
       "      <th>turnovers</th>\n",
       "      <th>double_double_flag</th>\n",
       "      <th>triple_double_flag</th>\n",
       "      <th>draftkings_points</th>\n",
       "    </tr>\n",
       "  </thead>\n",
       "  <tbody>\n",
       "    <tr>\n",
       "      <th>0</th>\n",
       "      <td>goberru01</td>\n",
       "      <td>Rudy Gobert</td>\n",
       "      <td>Team.UTAH_JAZZ</td>\n",
       "      <td>Location.HOME</td>\n",
       "      <td>Team.MEMPHIS_GRIZZLIES</td>\n",
       "      <td>2020-08-05</td>\n",
       "      <td>Outcome.WIN</td>\n",
       "      <td>2215</td>\n",
       "      <td>5</td>\n",
       "      <td>9</td>\n",
       "      <td>0</td>\n",
       "      <td>0</td>\n",
       "      <td>11</td>\n",
       "      <td>12</td>\n",
       "      <td>21</td>\n",
       "      <td>16</td>\n",
       "      <td>1</td>\n",
       "      <td>2</td>\n",
       "      <td>3</td>\n",
       "      <td>2</td>\n",
       "      <td>1</td>\n",
       "      <td>0</td>\n",
       "      <td>53.00</td>\n",
       "    </tr>\n",
       "    <tr>\n",
       "      <th>1</th>\n",
       "      <td>embiijo01</td>\n",
       "      <td>Joel Embiid</td>\n",
       "      <td>Team.PHILADELPHIA_76ERS</td>\n",
       "      <td>Location.AWAY</td>\n",
       "      <td>Team.WASHINGTON_WIZARDS</td>\n",
       "      <td>2020-08-05</td>\n",
       "      <td>Outcome.WIN</td>\n",
       "      <td>1962</td>\n",
       "      <td>11</td>\n",
       "      <td>20</td>\n",
       "      <td>0</td>\n",
       "      <td>2</td>\n",
       "      <td>8</td>\n",
       "      <td>9</td>\n",
       "      <td>30</td>\n",
       "      <td>11</td>\n",
       "      <td>3</td>\n",
       "      <td>3</td>\n",
       "      <td>2</td>\n",
       "      <td>3</td>\n",
       "      <td>1</td>\n",
       "      <td>0</td>\n",
       "      <td>58.25</td>\n",
       "    </tr>\n",
       "    <tr>\n",
       "      <th>2</th>\n",
       "      <td>portemi01</td>\n",
       "      <td>Michael Porter</td>\n",
       "      <td>Team.DENVER_NUGGETS</td>\n",
       "      <td>Location.AWAY</td>\n",
       "      <td>Team.SAN_ANTONIO_SPURS</td>\n",
       "      <td>2020-08-05</td>\n",
       "      <td>Outcome.WIN</td>\n",
       "      <td>2160</td>\n",
       "      <td>11</td>\n",
       "      <td>19</td>\n",
       "      <td>5</td>\n",
       "      <td>9</td>\n",
       "      <td>3</td>\n",
       "      <td>4</td>\n",
       "      <td>30</td>\n",
       "      <td>15</td>\n",
       "      <td>0</td>\n",
       "      <td>0</td>\n",
       "      <td>1</td>\n",
       "      <td>2</td>\n",
       "      <td>1</td>\n",
       "      <td>0</td>\n",
       "      <td>53.75</td>\n",
       "    </tr>\n",
       "    <tr>\n",
       "      <th>3</th>\n",
       "      <td>vanvlfr01</td>\n",
       "      <td>Fred VanVleet</td>\n",
       "      <td>Team.TORONTO_RAPTORS</td>\n",
       "      <td>Location.AWAY</td>\n",
       "      <td>Team.ORLANDO_MAGIC</td>\n",
       "      <td>2020-08-05</td>\n",
       "      <td>Outcome.WIN</td>\n",
       "      <td>2085</td>\n",
       "      <td>8</td>\n",
       "      <td>13</td>\n",
       "      <td>2</td>\n",
       "      <td>5</td>\n",
       "      <td>3</td>\n",
       "      <td>4</td>\n",
       "      <td>21</td>\n",
       "      <td>4</td>\n",
       "      <td>10</td>\n",
       "      <td>1</td>\n",
       "      <td>0</td>\n",
       "      <td>0</td>\n",
       "      <td>1</td>\n",
       "      <td>0</td>\n",
       "      <td>45.50</td>\n",
       "    </tr>\n",
       "    <tr>\n",
       "      <th>4</th>\n",
       "      <td>jokicni01</td>\n",
       "      <td>Nikola Jokić</td>\n",
       "      <td>Team.DENVER_NUGGETS</td>\n",
       "      <td>Location.AWAY</td>\n",
       "      <td>Team.SAN_ANTONIO_SPURS</td>\n",
       "      <td>2020-08-05</td>\n",
       "      <td>Outcome.WIN</td>\n",
       "      <td>1912</td>\n",
       "      <td>10</td>\n",
       "      <td>17</td>\n",
       "      <td>3</td>\n",
       "      <td>5</td>\n",
       "      <td>2</td>\n",
       "      <td>2</td>\n",
       "      <td>25</td>\n",
       "      <td>4</td>\n",
       "      <td>11</td>\n",
       "      <td>1</td>\n",
       "      <td>0</td>\n",
       "      <td>5</td>\n",
       "      <td>1</td>\n",
       "      <td>0</td>\n",
       "      <td>49.00</td>\n",
       "    </tr>\n",
       "  </tbody>\n",
       "</table>\n",
       "</div>"
      ],
      "text/plain": [
       "        slug            name                     team       location  \\\n",
       "0  goberru01     Rudy Gobert           Team.UTAH_JAZZ  Location.HOME   \n",
       "1  embiijo01     Joel Embiid  Team.PHILADELPHIA_76ERS  Location.AWAY   \n",
       "2  portemi01  Michael Porter      Team.DENVER_NUGGETS  Location.AWAY   \n",
       "3  vanvlfr01   Fred VanVleet     Team.TORONTO_RAPTORS  Location.AWAY   \n",
       "4  jokicni01    Nikola Jokić      Team.DENVER_NUGGETS  Location.AWAY   \n",
       "\n",
       "                  opponent date_played      outcome  seconds_played  \\\n",
       "0   Team.MEMPHIS_GRIZZLIES  2020-08-05  Outcome.WIN            2215   \n",
       "1  Team.WASHINGTON_WIZARDS  2020-08-05  Outcome.WIN            1962   \n",
       "2   Team.SAN_ANTONIO_SPURS  2020-08-05  Outcome.WIN            2160   \n",
       "3       Team.ORLANDO_MAGIC  2020-08-05  Outcome.WIN            2085   \n",
       "4   Team.SAN_ANTONIO_SPURS  2020-08-05  Outcome.WIN            1912   \n",
       "\n",
       "   made_field_goals  attempted_field_goals  made_three_point_field_goals  \\\n",
       "0                 5                      9                             0   \n",
       "1                11                     20                             0   \n",
       "2                11                     19                             5   \n",
       "3                 8                     13                             2   \n",
       "4                10                     17                             3   \n",
       "\n",
       "   attempted_three_point_field_goals  made_free_throws  attempted_free_throws  \\\n",
       "0                                  0                11                     12   \n",
       "1                                  2                 8                      9   \n",
       "2                                  9                 3                      4   \n",
       "3                                  5                 3                      4   \n",
       "4                                  5                 2                      2   \n",
       "\n",
       "   total_points_scored  total_rebounds  assists  steals  blocks  turnovers  \\\n",
       "0                   21              16        1       2       3          2   \n",
       "1                   30              11        3       3       2          3   \n",
       "2                   30              15        0       0       1          2   \n",
       "3                   21               4       10       1       0          0   \n",
       "4                   25               4       11       1       0          5   \n",
       "\n",
       "   double_double_flag  triple_double_flag  draftkings_points  \n",
       "0                   1                   0              53.00  \n",
       "1                   1                   0              58.25  \n",
       "2                   1                   0              53.75  \n",
       "3                   1                   0              45.50  \n",
       "4                   1                   0              49.00  "
      ]
     },
     "execution_count": 10,
     "metadata": {},
     "output_type": "execute_result"
    }
   ],
   "source": [
    "player_box_scores_df.head()"
   ]
  },
  {
   "cell_type": "code",
   "execution_count": 11,
   "metadata": {},
   "outputs": [],
   "source": [
    "player_box_scores_df.to_csv('/Users/vincela/git/draftkings/data/raw/nba_box_score_stats/nba_box_score_stats_20200805.csv', index=False)"
   ]
  },
  {
   "cell_type": "code",
   "execution_count": null,
   "metadata": {},
   "outputs": [],
   "source": []
  }
 ],
 "metadata": {
  "kernelspec": {
   "display_name": "Python 3",
   "language": "python",
   "name": "python3"
  },
  "language_info": {
   "codemirror_mode": {
    "name": "ipython",
    "version": 3
   },
   "file_extension": ".py",
   "mimetype": "text/x-python",
   "name": "python",
   "nbconvert_exporter": "python",
   "pygments_lexer": "ipython3",
   "version": "3.7.4"
  }
 },
 "nbformat": 4,
 "nbformat_minor": 4
}
