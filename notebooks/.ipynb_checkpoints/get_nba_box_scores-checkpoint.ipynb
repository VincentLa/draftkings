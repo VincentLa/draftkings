{
 "cells": [
  {
   "cell_type": "code",
   "execution_count": 1,
   "metadata": {},
   "outputs": [
    {
     "name": "stderr",
     "output_type": "stream",
     "text": [
      "/Users/vincela/.pyenv/versions/3.7.4/envs/draftkings/lib/python3.7/site-packages/pandas/compat/__init__.py:120: UserWarning: Could not import the lzma module. Your installed Python is incomplete. Attempting to use lzma compression will result in a RuntimeError.\n",
      "  warnings.warn(msg)\n"
     ]
    }
   ],
   "source": [
    "import datetime as dt\n",
    "import os\n",
    "\n",
    "import basketball_reference_web_scraper\n",
    "from basketball_reference_web_scraper import client\n",
    "import pandas as pd\n",
    "\n",
    "pd.set_option('display.max_rows', 500)\n",
    "pd.set_option('display.max_columns', 500)\n",
    "\n",
    "\n",
    "# Constants to translate raw NBA stats to DraftKings Points.\n",
    "# Pulling them out here in case they change it's easy to swap out\n",
    "POINTS_MULTIPLE = 1\n",
    "THREE_POINT_MULTIPLE = 0.5\n",
    "REBOUND_MULTIPLE = 1.25\n",
    "ASSIST_MULTIPLE = 1.5\n",
    "STEAL_MULTIPLE = 2\n",
    "BLOCK_MULTIPLE = 2\n",
    "TURNOVER_MULTIPLE = -0.5\n",
    "DOUBLE_DOUBLE_MULTIPLE = 1.5\n",
    "TRIPLE_DOUBLE_MULTIPLE = 3\n"
   ]
  },
  {
   "cell_type": "code",
   "execution_count": 2,
   "metadata": {},
   "outputs": [],
   "source": [
    "# https://jaebradley.github.io/basketball_reference_web_scraper/api/\n",
    "player_box_scores = client.player_box_scores(day=6, month=8, year=2020)"
   ]
  },
  {
   "cell_type": "code",
   "execution_count": 3,
   "metadata": {},
   "outputs": [
    {
     "data": {
      "text/plain": [
       "list"
      ]
     },
     "execution_count": 3,
     "metadata": {},
     "output_type": "execute_result"
    }
   ],
   "source": [
    "type(player_box_scores)"
   ]
  },
  {
   "cell_type": "code",
   "execution_count": 4,
   "metadata": {},
   "outputs": [
    {
     "data": {
      "text/plain": [
       "0"
      ]
     },
     "execution_count": 4,
     "metadata": {},
     "output_type": "execute_result"
    }
   ],
   "source": [
    "len(player_box_scores)"
   ]
  },
  {
   "cell_type": "code",
   "execution_count": 5,
   "metadata": {},
   "outputs": [
    {
     "ename": "IndexError",
     "evalue": "list index out of range",
     "output_type": "error",
     "traceback": [
      "\u001b[0;31m---------------------------------------------------------------------------\u001b[0m",
      "\u001b[0;31mIndexError\u001b[0m                                Traceback (most recent call last)",
      "\u001b[0;32m<ipython-input-5-b0b0302728e8>\u001b[0m in \u001b[0;36m<module>\u001b[0;34m\u001b[0m\n\u001b[0;32m----> 1\u001b[0;31m \u001b[0mtype\u001b[0m\u001b[0;34m(\u001b[0m\u001b[0mplayer_box_scores\u001b[0m\u001b[0;34m[\u001b[0m\u001b[0;36m0\u001b[0m\u001b[0;34m]\u001b[0m\u001b[0;34m)\u001b[0m\u001b[0;34m\u001b[0m\u001b[0;34m\u001b[0m\u001b[0m\n\u001b[0m",
      "\u001b[0;31mIndexError\u001b[0m: list index out of range"
     ]
    }
   ],
   "source": [
    "type(player_box_scores[0])"
   ]
  },
  {
   "cell_type": "code",
   "execution_count": null,
   "metadata": {},
   "outputs": [],
   "source": [
    "player_box_scores[0]"
   ]
  },
  {
   "cell_type": "code",
   "execution_count": null,
   "metadata": {},
   "outputs": [],
   "source": [
    "player_box_scores_df = pd.DataFrame(player_box_scores)\n",
    "player_box_scores_df['date_played'] = dt.date(2020, 8, 6)\n",
    "player_box_scores_df['total_rebounds'] = player_box_scores_df['offensive_rebounds'] + player_box_scores_df['defensive_rebounds']\n",
    "player_box_scores_df['total_points_scored'] = (player_box_scores_df['made_field_goals'] - player_box_scores_df['made_three_point_field_goals']) * 2 \\\n",
    "    + player_box_scores_df['made_three_point_field_goals'] * 3 \\\n",
    "    + player_box_scores_df['made_free_throws']\n",
    "player_box_scores_df['total_double_digit_stats'] = (player_box_scores_df['total_points_scored'] >= 10).astype(int) \\\n",
    "    + (player_box_scores_df['total_rebounds'] >= 10).astype(int) \\\n",
    "    + (player_box_scores_df['assists'] >= 10).astype(int) \\\n",
    "    + (player_box_scores_df['steals'] >= 10).astype(int) \\\n",
    "    + (player_box_scores_df['blocks'] >= 10).astype(int)\n",
    "player_box_scores_df['double_double_flag'] = (player_box_scores_df['total_double_digit_stats'] == 2).astype(int)\n",
    "player_box_scores_df['triple_double_flag'] = (player_box_scores_df['total_double_digit_stats'] >= 3).astype(int)"
   ]
  },
  {
   "cell_type": "code",
   "execution_count": null,
   "metadata": {},
   "outputs": [],
   "source": [
    "player_box_scores_df['draftkings_points'] = \\\n",
    "    POINTS_MULTIPLE * player_box_scores_df['total_points_scored'] \\\n",
    "    + THREE_POINT_MULTIPLE * player_box_scores_df['made_three_point_field_goals'] \\\n",
    "    + REBOUND_MULTIPLE * player_box_scores_df['total_rebounds'] \\\n",
    "    + ASSIST_MULTIPLE * player_box_scores_df['assists'] \\\n",
    "    + STEAL_MULTIPLE * player_box_scores_df['steals'] \\\n",
    "    + BLOCK_MULTIPLE * player_box_scores_df['blocks'] \\\n",
    "    + TURNOVER_MULTIPLE * player_box_scores_df['turnovers'] \\\n",
    "    + DOUBLE_DOUBLE_MULTIPLE * player_box_scores_df['double_double_flag'] \\\n",
    "    + TRIPLE_DOUBLE_MULTIPLE * player_box_scores_df['triple_double_flag']"
   ]
  },
  {
   "cell_type": "code",
   "execution_count": null,
   "metadata": {},
   "outputs": [],
   "source": [
    "player_box_scores_df = player_box_scores_df[[\n",
    "    'slug',\n",
    "    'name',\n",
    "    'team',\n",
    "    'location',\n",
    "    'opponent',\n",
    "    'date_played',\n",
    "    'outcome',\n",
    "    'seconds_played',\n",
    "    'made_field_goals',\n",
    "    'attempted_field_goals',\n",
    "    'made_three_point_field_goals',\n",
    "    'attempted_three_point_field_goals',\n",
    "    'made_free_throws',\n",
    "    'attempted_free_throws',\n",
    "    'total_points_scored',\n",
    "    'total_rebounds',\n",
    "    'assists',\n",
    "    'steals',\n",
    "    'blocks',\n",
    "    'turnovers',\n",
    "    'double_double_flag',\n",
    "    'triple_double_flag',\n",
    "    'draftkings_points',    \n",
    "]]"
   ]
  },
  {
   "cell_type": "code",
   "execution_count": null,
   "metadata": {},
   "outputs": [],
   "source": [
    "player_box_scores_df.head()"
   ]
  },
  {
   "cell_type": "code",
   "execution_count": null,
   "metadata": {},
   "outputs": [],
   "source": [
    "player_box_scores_df.to_csv('/Users/vincela/git/draftkings/data/raw/nba_box_score_stats/nba_box_score_stats_2020806.csv', index=False)"
   ]
  },
  {
   "cell_type": "code",
   "execution_count": null,
   "metadata": {},
   "outputs": [],
   "source": []
  }
 ],
 "metadata": {
  "kernelspec": {
   "display_name": "Python 3",
   "language": "python",
   "name": "python3"
  },
  "language_info": {
   "codemirror_mode": {
    "name": "ipython",
    "version": 3
   },
   "file_extension": ".py",
   "mimetype": "text/x-python",
   "name": "python",
   "nbconvert_exporter": "python",
   "pygments_lexer": "ipython3",
   "version": "3.7.4"
  }
 },
 "nbformat": 4,
 "nbformat_minor": 4
}
