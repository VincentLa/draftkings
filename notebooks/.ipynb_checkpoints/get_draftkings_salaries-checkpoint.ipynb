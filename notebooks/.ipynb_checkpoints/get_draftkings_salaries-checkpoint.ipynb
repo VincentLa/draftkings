{
 "cells": [
  {
   "cell_type": "code",
   "execution_count": 1,
   "metadata": {},
   "outputs": [],
   "source": [
    "import datetime as dt\n",
    "import os\n",
    "from pathlib import Path\n",
    "from random import randint\n",
    "import re\n",
    "import requests\n",
    "import sys\n",
    "import time\n",
    "\n",
    "import basketball_reference_web_scraper\n",
    "from basketball_reference_web_scraper import client\n",
    "from bs4 import BeautifulSoup\n",
    "import git\n",
    "import pandas as pd\n",
    "from urllib.request import urlopen\n",
    "\n",
    "sys.path.append('../')\n",
    "\n",
    "import src.util as ut\n",
    "\n",
    "pd.set_option('display.max_rows', 500)\n",
    "pd.set_option('display.max_columns', 500)\n",
    "\n",
    "GIT_ROOT_DIR = ut.get_git_root(os.getcwd())\n",
    "DATA_DIR = os.path.join(GIT_ROOT_DIR, 'data')\n",
    "\n",
    "SECONDS_SLEEP = 2\n",
    "\n",
    "# THIS IS WHAT YOU NEED TO CHANGE\n",
    "GAME_YEAR = 2020\n",
    "GAME_MONTH = 8\n",
    "GAME_DAY = 7"
   ]
  },
  {
   "cell_type": "code",
   "execution_count": 2,
   "metadata": {},
   "outputs": [],
   "source": [
    "def normalize_position(position):\n",
    "    \"\"\"\n",
    "    Add full roster positions\n",
    "    \n",
    "    For example, if PG, then the player is also a G, if PF, a player is also an F. \n",
    "    All players are UTIL\n",
    "    \"\"\"\n",
    "    position_normalized = position.split('/')\n",
    "    position_normalized = list(filter(None, position_normalized))  # Remove empty strings\n",
    "    \n",
    "    if 'PG' in position_normalized or 'SG' in position_normalized:\n",
    "        position_normalized.append('G')\n",
    "    if 'SF' in position_normalized or 'PF' in position_normalized:\n",
    "        position_normalized.append('F')\n",
    "    position_normalized.append('UTIL')\n",
    "    position_normalized = list(set(position_normalized))\n",
    "    position_normalized.sort()\n",
    "    \n",
    "    position_normalized = '/'.join(position_normalized)\n",
    "    \n",
    "    return position_normalized"
   ]
  },
  {
   "cell_type": "code",
   "execution_count": 3,
   "metadata": {},
   "outputs": [],
   "source": [
    "def get_fantasy_salary(game_year, game_month, game_day):\n",
    "    \"\"\"\n",
    "    Scraping DraftKings salary data from RotoGuru.com\n",
    "    \"\"\"\n",
    "    url_roto = \"http://rotoguru1.com/cgi-bin/hyday.pl?mon={}&day={}&year={}&game=dk\".format(game_month, game_day, game_year)\n",
    "    print('Scraping salary information for date {}-{}-{}'.format(game_year, str(game_month).rjust(2, '0'), str(game_day).rjust(2, '0')))\n",
    "\n",
    "    teams, positions, players, starters, salaries = [], [], [], [], []\n",
    "\n",
    "    soup = BeautifulSoup(urlopen(url_roto),'lxml')\n",
    "\n",
    "    #Check if there were any games on a given date\n",
    "    soup_table = soup.find('body').find('table', border=\"0\", cellspacing=\"5\")\n",
    "\n",
    "    soup_rows = soup_table.find_all('tr')\n",
    "\n",
    "    for row in soup_rows:\n",
    "        if row.find('td').has_attr('colspan') == False:\n",
    "            if row.find('a').get_text() != '':\n",
    "\n",
    "                position = row.find_all('td')[0].get_text()\n",
    "                position = normalize_position(position)\n",
    "\n",
    "                player_tmp = row.find('a').get_text().split(\", \")\n",
    "                player = player_tmp[1] + ' ' + player_tmp[0]\n",
    "\n",
    "                starter_tmp = row.find_all('td')[1].get_text()\n",
    "\n",
    "                if '^' in starter_tmp:\n",
    "                    starter = True\n",
    "                else:\n",
    "                    starter = False\n",
    "\n",
    "                salary_tmp = row.find_all('td')[3].get_text()\n",
    "                salary = re.sub('[$,]', '', salary_tmp)\n",
    "\n",
    "                team = row.find_all('td')[4].get_text()\n",
    "\n",
    "                positions.append(position)\n",
    "                players.append(player)\n",
    "                starters.append(starter)\n",
    "                salaries.append(salary)\n",
    "                teams.append(team)\n",
    "\n",
    "    df = pd.DataFrame({'date': [dt.date(game_year, game_month, game_day) for i in range(len(players))], \n",
    "                       'team': [team.upper() for team in teams],\n",
    "                       'position': positions,\n",
    "                       'name': players,\n",
    "                       'starter': starters,\n",
    "                       'salary': salaries})\n",
    "\n",
    "#     df.to_csv(os.path.join(DATA_DIR, 'DKSalary', season, 'salary_'+date+'.csv'), index=False)\n",
    "\n",
    "    time.sleep(SECONDS_SLEEP)\n",
    "    return df"
   ]
  },
  {
   "cell_type": "code",
   "execution_count": 4,
   "metadata": {},
   "outputs": [
    {
     "name": "stdout",
     "output_type": "stream",
     "text": [
      "Scraping salary information for date 2020-08-07\n"
     ]
    }
   ],
   "source": [
    "df = get_fantasy_salary(game_year=GAME_YEAR, game_month=GAME_MONTH, game_day=GAME_DAY)"
   ]
  },
  {
   "cell_type": "code",
   "execution_count": 8,
   "metadata": {},
   "outputs": [
    {
     "data": {
      "text/html": [
       "<div>\n",
       "<style scoped>\n",
       "    .dataframe tbody tr th:only-of-type {\n",
       "        vertical-align: middle;\n",
       "    }\n",
       "\n",
       "    .dataframe tbody tr th {\n",
       "        vertical-align: top;\n",
       "    }\n",
       "\n",
       "    .dataframe thead th {\n",
       "        text-align: right;\n",
       "    }\n",
       "</style>\n",
       "<table border=\"1\" class=\"dataframe\">\n",
       "  <thead>\n",
       "    <tr style=\"text-align: right;\">\n",
       "      <th></th>\n",
       "      <th>date</th>\n",
       "      <th>team</th>\n",
       "      <th>position</th>\n",
       "      <th>name</th>\n",
       "      <th>starter</th>\n",
       "      <th>salary</th>\n",
       "    </tr>\n",
       "  </thead>\n",
       "  <tbody>\n",
       "    <tr>\n",
       "      <th>0</th>\n",
       "      <td>2020-08-07</td>\n",
       "      <td>WAS</td>\n",
       "      <td>G/PG/UTIL</td>\n",
       "      <td>Ishmael Smith</td>\n",
       "      <td>True</td>\n",
       "      <td>5000</td>\n",
       "    </tr>\n",
       "    <tr>\n",
       "      <th>1</th>\n",
       "      <td>2020-08-07</td>\n",
       "      <td>BKN</td>\n",
       "      <td>G/SG/UTIL</td>\n",
       "      <td>Caris LeVert</td>\n",
       "      <td>True</td>\n",
       "      <td>7100</td>\n",
       "    </tr>\n",
       "    <tr>\n",
       "      <th>2</th>\n",
       "      <td>2020-08-07</td>\n",
       "      <td>NOR</td>\n",
       "      <td>G/PG/SG/UTIL</td>\n",
       "      <td>Jrue Holiday</td>\n",
       "      <td>True</td>\n",
       "      <td>9300</td>\n",
       "    </tr>\n",
       "    <tr>\n",
       "      <th>3</th>\n",
       "      <td>2020-08-07</td>\n",
       "      <td>OKC</td>\n",
       "      <td>G/PG/UTIL</td>\n",
       "      <td>Chris Paul</td>\n",
       "      <td>True</td>\n",
       "      <td>8100</td>\n",
       "    </tr>\n",
       "    <tr>\n",
       "      <th>4</th>\n",
       "      <td>2020-08-07</td>\n",
       "      <td>MEM</td>\n",
       "      <td>G/SG/UTIL</td>\n",
       "      <td>Dillon Brooks</td>\n",
       "      <td>True</td>\n",
       "      <td>5400</td>\n",
       "    </tr>\n",
       "  </tbody>\n",
       "</table>\n",
       "</div>"
      ],
      "text/plain": [
       "         date team      position           name  starter salary\n",
       "0  2020-08-07  WAS     G/PG/UTIL  Ishmael Smith     True   5000\n",
       "1  2020-08-07  BKN     G/SG/UTIL   Caris LeVert     True   7100\n",
       "2  2020-08-07  NOR  G/PG/SG/UTIL   Jrue Holiday     True   9300\n",
       "3  2020-08-07  OKC     G/PG/UTIL     Chris Paul     True   8100\n",
       "4  2020-08-07  MEM     G/SG/UTIL  Dillon Brooks     True   5400"
      ]
     },
     "execution_count": 8,
     "metadata": {},
     "output_type": "execute_result"
    }
   ],
   "source": [
    "df.head(5)"
   ]
  },
  {
   "cell_type": "code",
   "execution_count": 6,
   "metadata": {},
   "outputs": [
    {
     "data": {
      "text/plain": [
       "(181, 6)"
      ]
     },
     "execution_count": 6,
     "metadata": {},
     "output_type": "execute_result"
    }
   ],
   "source": [
    "df.shape"
   ]
  },
  {
   "cell_type": "code",
   "execution_count": null,
   "metadata": {},
   "outputs": [],
   "source": []
  }
 ],
 "metadata": {
  "kernelspec": {
   "display_name": "Python 3",
   "language": "python",
   "name": "python3"
  },
  "language_info": {
   "codemirror_mode": {
    "name": "ipython",
    "version": 3
   },
   "file_extension": ".py",
   "mimetype": "text/x-python",
   "name": "python",
   "nbconvert_exporter": "python",
   "pygments_lexer": "ipython3",
   "version": "3.7.4"
  }
 },
 "nbformat": 4,
 "nbformat_minor": 4
}
