{
 "cells": [
  {
   "cell_type": "code",
   "execution_count": 30,
   "metadata": {},
   "outputs": [],
   "source": [
    "import requests\n",
    "import re\n",
    "import datetime\n",
    "import pandas as pd\n",
    "import os"
   ]
  },
  {
   "cell_type": "code",
   "execution_count": 36,
   "metadata": {},
   "outputs": [],
   "source": [
    "today = datetime.datetime.today()\n",
    "today = today.strftime('%Y-%m-%d')"
   ]
  },
  {
   "cell_type": "code",
   "execution_count": 37,
   "metadata": {
    "collapsed": true
   },
   "outputs": [],
   "source": [
    "url1 = 'https://ak-static.cms.nba.com/referee/injury/Injury-Report_' + today + '_11AM.pdf'\n",
    "url2 = 'https://ak-static.cms.nba.com/referee/injury/Injury-Report_' + today + '_02PM.pdf'\n",
    "url3 = 'https://ak-static.cms.nba.com/referee/injury/Injury-Report_' + today + '_05PM.pdf'\n",
    "r1 = requests.get(url1, allow_redirects=True)\n",
    "r2 = requests.get(url2, allow_redirects=True)\n",
    "r3 = requests.get(url3, allow_redirects=True)"
   ]
  },
  {
   "cell_type": "code",
   "execution_count": 38,
   "metadata": {},
   "outputs": [],
   "source": [
    "os.chdir('C:\\\\Users\\\\Kevin\\\\Documents\\\\GitHub\\\\draftkings\\\\data\\\\raw\\\\injury_reports')"
   ]
  },
  {
   "cell_type": "code",
   "execution_count": 39,
   "metadata": {},
   "outputs": [
    {
     "data": {
      "text/plain": [
       "243"
      ]
     },
     "execution_count": 39,
     "metadata": {},
     "output_type": "execute_result"
    }
   ],
   "source": [
    "open('Injury-Report_' + today + '_11AM.pdf', 'wb').write(r1.content)\n",
    "open('Injury-Report_' + today + '_02PM.pdf', 'wb').write(r2.content)\n",
    "open('Injury-Report_' + today + '_05PM.pdf', 'wb').write(r3.content)"
   ]
  },
  {
   "cell_type": "code",
   "execution_count": null,
   "metadata": {
    "collapsed": true
   },
   "outputs": [],
   "source": []
  }
 ],
 "metadata": {
  "kernelspec": {
   "display_name": "Python 3",
   "language": "python",
   "name": "python3"
  },
  "language_info": {
   "codemirror_mode": {
    "name": "ipython",
    "version": 3
   },
   "file_extension": ".py",
   "mimetype": "text/x-python",
   "name": "python",
   "nbconvert_exporter": "python",
   "pygments_lexer": "ipython3",
   "version": "3.6.3"
  }
 },
 "nbformat": 4,
 "nbformat_minor": 2
}
